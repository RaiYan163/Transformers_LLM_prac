{
  "nbformat": 4,
  "nbformat_minor": 0,
  "metadata": {
    "colab": {
      "provenance": [],
      "authorship_tag": "ABX9TyPOur3FtljE4rx0PwJe75AQ",
      "include_colab_link": true
    },
    "kernelspec": {
      "name": "python3",
      "display_name": "Python 3"
    },
    "language_info": {
      "name": "python"
    }
  },
  "cells": [
    {
      "cell_type": "markdown",
      "metadata": {
        "id": "view-in-github",
        "colab_type": "text"
      },
      "source": [
        "<a href=\"https://colab.research.google.com/github/RaiYan163/Transformers_LLM_prac/blob/main/TransformerPractice.ipynb\" target=\"_parent\"><img src=\"https://colab.research.google.com/assets/colab-badge.svg\" alt=\"Open In Colab\"/></a>"
      ]
    },
    {
      "cell_type": "code",
      "execution_count": 15,
      "metadata": {
        "id": "SMbntxBtGVk2"
      },
      "outputs": [],
      "source": [
        "import torch\n",
        "import torch.nn as nn\n",
        "import math\n",
        "\n",
        "class InputEmbeddings(nn.Module):\n",
        "  def __init__(self, d_model: int, vocab_size: int):\n",
        "    super().__init__()\n",
        "    self.d_model = d_model\n",
        "    self.vocab_size = vocab_size\n",
        "    self.embedding = nn.Embedding(vocab_size, d_model)\n",
        "\n",
        "  def forward(self, x):\n",
        "    return self.embedding(x) * math.sqrt(self.d_model)\n",
        "\n",
        "\n",
        "\n"
      ]
    },
    {
      "cell_type": "code",
      "source": [
        "class PositionalEncoding(nn.Module):\n",
        "  def __init__(self, d_model: int, seq_len: int, dropout: float) -> None:\n",
        "    super().__init__()\n",
        "    self.d_model = d_model\n",
        "    self.seq_len = seq_len\n",
        "    self.dropout = nn.Dropout(dropout)\n",
        "\n",
        "    #Creating a matrix of shape (seq_len, d_model)\n",
        "\n",
        "    pe = torch.zeros(seq_len, d_model)\n",
        "\n",
        "    #Creating a vector of shape (seq_len, 1)\n",
        "    position = torch.arange(0, seq_len, dtype = torch.float).unsqueeze(1) # Did not understand the purpose of unsqueeze, it is said that it adds a dimension , but how and why?\n",
        "    div_term = torch.exp(torch.arange(0, d_model, 2).float() * (-math.log(10000.0)/d_model))\n",
        "\n",
        "    #Applying sin to the even position\n",
        "    pe[:, 0::2] = torch.sin(position * div_term)\n",
        "    pe[:, 1::2] = torch.cos(position * div_term)\n",
        "\n",
        "\n",
        "    pe = pe.unsqueeze(0) # (1, Seq_len, d_model)\n",
        "    self.register_buffer('pe', pe) #why we used it? Clear it out\n",
        "\n",
        "    def forward(self, x):\n",
        "      x = x + (self.pe[:, :x.shape[1], :]).requires_grad(False) # I am having problems regarding the dimensions\n",
        "      return self.dropout(x) #please clear out the drop out\n",
        "\n",
        "\n",
        "\n",
        "\n"
      ],
      "metadata": {
        "id": "_c03vAy4Hhx5"
      },
      "execution_count": 16,
      "outputs": []
    },
    {
      "cell_type": "code",
      "source": [
        "class LayerNormalization(nn.Module):\n",
        "  def __init__(self, eps: float = 10**-6) -> None:\n",
        "    super().__init__()\n",
        "    self.eps = eps #Required for numerical stability\n",
        "    self.alpha = nn.Parameter(torch.ones(1)) #multipliedm, it is said this makes the param learnable.\n",
        "    self.bias = nn.Parameter(torch.zeros(1)) #added, it is single tensor (1, )\n",
        "\n",
        "  def forward(self, x):\n",
        "    mean = x.mean(dim = -1, keepdim = True) # keeping the single mean in last dimensiion\n",
        "    std = x.std(dim = -1, keepdim = True)\n",
        "    return self.alpha * (x-mean) / (std + self.eps) + self.bias #bias and alpha parameter, whole ans er sathe added\n",
        "\n"
      ],
      "metadata": {
        "id": "sfvCjos53-YL"
      },
      "execution_count": 17,
      "outputs": []
    },
    {
      "cell_type": "code",
      "source": [
        "class FeedForwardBlock(nn.Module):\n",
        "  def __init__(self, d_model: int, d_ff: int, dropout: float)-> None:\n",
        "    super().__init__()\n",
        "    self.linear_1 = nn.Linear(d_model, d_ff) # W1 and B1\n",
        "    self.dropout = nn.Dropout(dropout)\n",
        "    self.linear_2 = nn.Linear(d_ff, d_model) # w2 and B2\n",
        "\n",
        "  def forward(self, x):\n",
        "    # (Batch, seq_len, d_model) --> (batch, seq_len, d_ff) --> (batch, seq_len, d_model)\n",
        "    return self.linear_2(self.dropout(torch.relu(self.linear_1(x))))\n",
        "\n",
        "#why dropout, how and why linear transformation? How relu helping, and what is the purpose of FeedForwardBlock"
      ],
      "metadata": {
        "id": "q5ai5RSt0AC_"
      },
      "execution_count": 18,
      "outputs": []
    },
    {
      "cell_type": "code",
      "source": [
        "class MultiHeadAttentionBlock(nn.Module):\n",
        "\n",
        "  def __init__(self, d_model: int, h: int, dropout: float)-> None:\n",
        "    super().__init__()\n",
        "    self.d_model = d_model\n",
        "    self.h = h\n",
        "    assert d_model % h == 0, \"d_model is not divisble by h\"\n",
        "\n",
        "    self.d_k = d_model // h\n",
        "    self.w_q = nn.Linear(d_model, d_model) #Wq\n",
        "    self.w_k = nn.Linear(d_model, d_model) #Wk\n",
        "    self.w_v = nn.Linear(d_model, d_model) #Wv\n",
        "\n",
        "    self.w_o = nn.Linear(d_model, d_model) #W0\n",
        "    self.dropout = nn.Dropout(dropout)\n",
        "\n",
        "  @staticmethod\n",
        "  def attention(query, key, value, mask, dropout: nn.Dropout):\n",
        "    d_k = query.shape[-1]\n",
        "\n",
        "    # (Batch, h, Seq_len, d_k) --> (batch, h, seq_len, seq_len)\n",
        "    attention_scores = (query @ key.transpose(-2, -1)) / math.sqrt(d_k)\n",
        "    if mask is not None:\n",
        "      attention_scores.masked_fill(mask == 0, -1e9)\n",
        "    attention_scores = attention_scores.softmax(dim = -1) # (Batch, h, seq_len, seq_len)\n",
        "    if dropout is not None:\n",
        "      attention_scores = dropout(attention_score)\n",
        "\n",
        "    return (attention_scores @ value), attention_scores\n",
        "\n",
        "\n",
        "  def forward(self, q, k, v, mask):\n",
        "    query = self.w_q(q) # (Batch, Seq_Len, d_model) ---> (Batch, Seq_len, d_model)\n",
        "    key = self.w_k(k) # (Batch, Seq_Len, d_model) ---> (Batch, Seq_len, d_model)\n",
        "    value = self.w_v(v) # (Batch, Seq_Len, d_model) ---> (Batch, Seq_len, d_model)\n",
        "\n",
        "    # (batch, seq_len, d_model) --> (batch, seq_len, h, d_k) --> (batch, h, seq_len, d_k)\n",
        "    query = query.view(query.shape[0], query.shape[1], self.h, self.d_k).transpose(1, 2)\n",
        "    key = key.view(key.shape[0], key.shape[1], self.h, self.d_k).transpose(1, 2)\n",
        "    value = value.view(value.shape[0], value.shape[1], self.h, self.d_k).transpose(1, 2)\n",
        "    # Why the transpose was needed, what is it's benifit?\n",
        "\n",
        "    x, self.attention_score = MultiHeadAttentionBlock.attention(query, key, value, mask, self.dropout)\n",
        "\n",
        "    # (Batch, h, Seq_len, d_k) --> (Batch, Seq_len, h, d_k) --> (Batch, Seq_len, d_model)\n",
        "    x = x.transpose(1, 2).contiguous().view(x.shape[0], -1, self.h * self.d_k)\n",
        "\n",
        "    #(Batch, seq_len, d_model) --> (Batch, Seq_len, d_model)\n",
        "    return self.w_o(x)\n",
        "\n",
        "\n",
        "# Need to understand the remaining, please review later"
      ],
      "metadata": {
        "id": "PKM6z0v6YKO-"
      },
      "execution_count": 19,
      "outputs": []
    },
    {
      "cell_type": "code",
      "source": [
        "class ResidualConnection(nn.Module):\n",
        "\n",
        "  def __init__(self, dropout: float) -> None:\n",
        "    super().__init__()\n",
        "    self.dropout = nn.Dropout(dropout)\n",
        "    self.norm = LayerNormalization()\n",
        "\n",
        "  def forward(self, x, sublayer):\n",
        "    return x + self.dropout(sublayer(self.norm(x))) # where did this sublayer come from? What is it's purpose?\n",
        "\n",
        "\n",
        "\n",
        "\n",
        "\n",
        "\n"
      ],
      "metadata": {
        "id": "nrGnV_C0RAdP"
      },
      "execution_count": 20,
      "outputs": []
    },
    {
      "cell_type": "markdown",
      "source": [],
      "metadata": {
        "id": "x5Qn8dYis-6H"
      }
    },
    {
      "cell_type": "code",
      "source": [
        "class EncoderBlock(nn.Module):\n",
        "\n",
        "  def __init__(self, self_attention_block: MultiHeadAttentionBlock, feed_forward_block: FeedForwardBlock, dropout: float) -> None:\n",
        "    super().__init__()\n",
        "    self.self_attention_block = self_attention_block\n",
        "    self.feed_forward_block = feed_forward_block\n",
        "    self.residual_connection = nn.ModuleList([ResidualConnection(dropout) for _ in range(2)]) #storing two residual connection here\n",
        "\n",
        "  def forward(self, x, src_mask):\n",
        "    x = self.residual_connection[0](x, lambda x: self.self_attention_block(x, x, x, src_mask)) #confused how residual connections are taking input\n",
        "    x = self.residual_connections[1](x, self.feed_forward_block)\n",
        "    return x\n"
      ],
      "metadata": {
        "id": "p6LURhzrV3Nh"
      },
      "execution_count": 21,
      "outputs": []
    },
    {
      "cell_type": "code",
      "source": [
        "class Encoder(nn.Module):\n",
        "  def __init__(self, layers: nn.ModuleList) -> None:\n",
        "    super().__init__()\n",
        "    self.layers = layers\n",
        "    self.norm = LayerNormalization()\n",
        "\n",
        "  def forward(self, x, mask):\n",
        "    for layer in self.layers:\n",
        "      x = layer(x, mask)\n",
        "    return self.norm(x)"
      ],
      "metadata": {
        "id": "0c7yQHPafzum"
      },
      "execution_count": 22,
      "outputs": []
    },
    {
      "cell_type": "code",
      "source": [
        "class ProjectionLayer(nn.Module):\n",
        "\n",
        "  def __init__(self, d_model: int, vocab_size: int) -> None:\n",
        "    super().__init__()\n",
        "    self.proj = nn.Linear(d_model, vocab_size)\n",
        "\n",
        "  def forward(self, x):\n",
        "    #(Batch, Seq_len, d_model) ---> (Batch, seq_len, Vocab_size)\n",
        "    return torch.log_softmax(self.proj(x), dim = -1)"
      ],
      "metadata": {
        "id": "nbQwy5zehCw3"
      },
      "execution_count": 23,
      "outputs": []
    },
    {
      "cell_type": "code",
      "source": [
        "class DecoderBlock(nn.Module):\n",
        "\n",
        "  def __init__(self, self_attention_block: MultiHeadAttentionBlock, cross_attention_block: MultiHeadAttentionBlock, feed_forward_block: FeedForwardBlock, dropout: float) -> None:\n",
        "    super().__init__()\n",
        "    self.self_attention_block = self_attention_block\n",
        "    self.cross_attention_block = cross_attention_block\n",
        "    self.feed_forward_block = feed_forward_block\n",
        "    self.residual_connection = nn.Module([ResidualConnection(dropout) for _ in range(3)]) # 3 residual connection used here, didn't get the purpose of dropout in this case.\n",
        "\n",
        "  def forward(self, x, encoder_output, src_mask, tgt_mask):\n",
        "    x = self.residual_connections[0](x, lambda x: self.self_attention_block(x, x, x, tgt_mask))\n",
        "    x = self.residual_connection[1](x, lambda x: self.cross_attention_block(x, encoder_output, encoder_output, src_mask))\n",
        "    x = self.residual_connection[2](x, self.feed_forward_block)\n",
        "    return x\n",
        "\n"
      ],
      "metadata": {
        "id": "EHjbPqlo9Tqd"
      },
      "execution_count": 24,
      "outputs": []
    },
    {
      "cell_type": "code",
      "source": [
        "class Decoder(nn.Module):\n",
        "  def __init__(self, layers: nn.ModuleList) -> None:\n",
        "    super().__init__()\n",
        "    self.layers = layers\n",
        "    self.norm = LayerNormalization()\n",
        "\n",
        "  def forward(self, x, encoder_output, src_mask, tgt_mask):\n",
        "      for layer in self.layers:\n",
        "        x = layer(x, encoder_output, src_mask, tgt_mask)\n",
        "      return self.norm(x)\n",
        "\n",
        "# `nn.ModuleList` is a container in PyTorch to store a list of `nn.Module` instances,\n",
        "# typically layers, within a neural network model. It allows for easy management,\n",
        "# parameter tracking, and iteration over the layers, facilitating sequential\n",
        "# application of operations during the forward pass.\n"
      ],
      "metadata": {
        "id": "LtP9p4h7AYA_"
      },
      "execution_count": 25,
      "outputs": []
    },
    {
      "cell_type": "code",
      "source": [
        "class Transformer(nn.Module):\n",
        "\n",
        "  def __init__(self, encoder: Encoder, decoder: Decoder, src_embed: InputEmbeddings, tgt_embed: InputEmbeddings, src_pos: PositionalEncoding, tgt_pos: PositionalEncoding, projection_layer: ProjectionLayer) -> None:\n",
        "    super().__init__()\n",
        "\n",
        "    self.encoder = encoder\n",
        "    self.decoder = decoder\n",
        "    self.src_embed = src_embed\n",
        "    self.tgt_embed = tgt_embed\n",
        "    self.src_pos = src_pos\n",
        "    self.tgt_pos = tgt_pos\n",
        "    self.projection_layer = projection_layer\n",
        "\n",
        "  def encode(self, src, src_mask):\n",
        "    src = self.src_embed(src)\n",
        "    src = self.src_pos(src)\n",
        "    return self.encoder(src, src_mask)\n",
        "\n",
        "  def decode(self, encoder_output, src_mask, tgt, tgt_mask):\n",
        "    tgt = self.tgt_embed(tgt)\n",
        "    tgt = self.tgt_pos(tgt)\n",
        "    return self.decoder(tgt, encoder_output, src_mask, tgt_mask)\n",
        "\n",
        "  def project(self, x):\n",
        "    return self.projection_layer(x)\n",
        "\n",
        "  def build_transformer(src_vocab_size: int, tgt_vocab_size: int, src_seq_len: int, tgt_seq_len: int, d_model: int = 512, N: int = 6, h: int = 8, dropout: float = 0.1, d_ff: int = 2048) -> Transformer:\n",
        "    # Create the embedding layer\n",
        "\n",
        "    src_embed = InputEmbeddings(d_model, src_vocab_size)\n",
        "    tgt_embed = InputEmbeddings(d_model, tgt_vocab_size)\n",
        "\n",
        "\n",
        "    # Create the positional encoding layer\n",
        "    src_pos = PositionalEncoding(d_model, src_seq_len, dropout)\n",
        "    tgt_pos = PositionalEncoding(d_model, tgt_seq_len, dropout)\n",
        "\n",
        "    decoder_blocks = []\n",
        "\n",
        "    for _ in range(N):\n",
        "      decoder_self_attention_block = MultiHeadAttentionBlock(d_model, h, dropout)\n",
        "      decoder_cross_attention_block = MultiHeadAttentionBlock(d_model, h, dropout)\n",
        "      feed_forward_block = FeedForwardBlock(d_model, d_ff, dropout)\n",
        "      decoder_block = DecoderBlock(decoder_self_attention_block, decoder_cross_attention_block, feed_forward_block, dropout)\n",
        "      decoder_blocks.append(decoder_block)\n",
        "\n",
        "    # creating the encoder and decoder\n",
        "    projection_layer = ProjectionLayer(d_model, tgt_vocab_size)\n",
        "\n",
        "    #Creating the transformer\n",
        "    transformer = Transformer(encoder, decoder, src_embed, tgt_embed, src_pos, tgt_pos, projection_layer)\n",
        "\n",
        "    #Initialize the paramters\n",
        "    for p in transformer.parameters():\n",
        "      if p.dim() > 1:\n",
        "        nn.init.xavier_uniform_(p)\n",
        "\n",
        "    return transformer\n",
        "\n",
        "\n",
        "\n"
      ],
      "metadata": {
        "id": "5-EvMxyuDujO"
      },
      "execution_count": 28,
      "outputs": []
    },
    {
      "cell_type": "code",
      "source": [],
      "metadata": {
        "id": "EiezQAA-Tiv7"
      },
      "execution_count": null,
      "outputs": []
    }
  ]
}