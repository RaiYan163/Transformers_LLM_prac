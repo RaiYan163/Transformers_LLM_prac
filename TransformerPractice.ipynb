{
  "nbformat": 4,
  "nbformat_minor": 0,
  "metadata": {
    "colab": {
      "provenance": [],
      "authorship_tag": "ABX9TyMdJUm7d+crsnX8qUUhurrk",
      "include_colab_link": true
    },
    "kernelspec": {
      "name": "python3",
      "display_name": "Python 3"
    },
    "language_info": {
      "name": "python"
    }
  },
  "cells": [
    {
      "cell_type": "markdown",
      "metadata": {
        "id": "view-in-github",
        "colab_type": "text"
      },
      "source": [
        "<a href=\"https://colab.research.google.com/github/RaiYan163/Transformers_LLM_prac/blob/main/TransformerPractice.ipynb\" target=\"_parent\"><img src=\"https://colab.research.google.com/assets/colab-badge.svg\" alt=\"Open In Colab\"/></a>"
      ]
    },
    {
      "cell_type": "code",
      "execution_count": null,
      "metadata": {
        "id": "SMbntxBtGVk2"
      },
      "outputs": [],
      "source": [
        "import torch\n",
        "import torch.nn as nn\n",
        "import math\n",
        "\n",
        "class InputEmbeddings(nn.Module):\n",
        "  def __init__(self, d_model: int, vocab_size: int):\n",
        "    super().__init__()\n",
        "    self.d_model = d_model\n",
        "    self.vocab_size = vocab_size\n",
        "    self.embedding = nn.Embedding(vocab_size, d_model)\n",
        "\n",
        "  def forward(self, x):\n",
        "    return self.embedding(x) * math.sqrt(self.d_model)\n",
        "\n",
        "\n",
        "\n"
      ]
    },
    {
      "cell_type": "code",
      "source": [
        "class PositionalEncoding(nn.Module):\n",
        "  def __init__(self, d_model: int, seq_len: int, dropout: float) -> None:\n",
        "    super().__init__()\n",
        "    self.d_model = d_model\n",
        "    self.seq_len = seq_len\n",
        "    self.dropout = nn.Dropout(dropout)\n",
        "\n",
        "    #Creating a matrix of shape (seq_len, d_model)\n",
        "\n",
        "    pe = torch.zeros(seq_len, d_model)\n",
        "\n",
        "    #Creating a vector of shape (seq_len, 1)\n",
        "    position = torch.arange(0, seq_len, dtype = torch.float).unsqueeze(1) # Did not understand the purpose of unsqueeze, it is said that it adds a dimension , but how and why?\n",
        "    div_term = torch.exp(torch.arange(0, d_model, 2).float() * (-math.log(10000.0)/d_model))\n",
        "\n",
        "    #Applying sin to the even position\n",
        "    pe[:, 0::2] = torch.sin(position * div_term)\n",
        "    pe[:, 1::2] = torch.cos(position * div_term)\n",
        "\n",
        "\n",
        "    pe = pe.unsqueeze(0) # (1, Seq_len, d_model)\n",
        "    self.register_buffer('pe', pe) #why we used it? Clear it out\n",
        "\n",
        "    def forward(self, x):\n",
        "      x = x + (self.pe[:, :x.shape[1], :]).requires_grad(False) # I am having problems regarding the dimensions\n",
        "      return self.dropout(x) #please clear out the drop out\n",
        "\n",
        "\n",
        "\n",
        "\n"
      ],
      "metadata": {
        "id": "_c03vAy4Hhx5"
      },
      "execution_count": null,
      "outputs": []
    },
    {
      "cell_type": "code",
      "source": [
        "class LayerNormalization(nn.Module):\n",
        "  def __init__(self, eps: float = 10**-6) -> None:\n",
        "    super().__init__()\n",
        "    self.eps = eps #Required for numerical stability\n",
        "    self.alpha = nn.Parameter(torch.ones(1)) #multipliedm, it is said this makes the param learnable.\n",
        "    self.bias = nn.Parameter(torch.zeros(1)) #added, it is single tensor (1, )\n",
        "\n",
        "  def forward(self, x):\n",
        "    mean = x.mean(dim = -1, keepdim = True) # keeping the single mean in last dimensiion\n",
        "    std = x.std(dim = -1, keepdim = True)\n",
        "    return self.alpha * (x-mean) / (std + self.eps) + self.bias #bias and alpha parameter, whole ans er sathe added\n",
        "\n"
      ],
      "metadata": {
        "id": "sfvCjos53-YL"
      },
      "execution_count": null,
      "outputs": []
    },
    {
      "cell_type": "code",
      "source": [
        "class FeedForwardBlock(nn.Module):\n",
        "  def __init__(self, d_model: int, d_ff: int, dropout: float)-> None:\n",
        "    super().__init__()\n",
        "    self.linear_1 = nn.Linear(d_model, d_ff) # W1 and B1\n",
        "    self.dropout = nn.Dropout(dropout)\n",
        "    self.linear_2 = nn.Linear(d_ff, d_model) # w2 and B2\n",
        "\n",
        "  def forward(self, x):\n",
        "    # (Batch, seq_len, d_model) --> (batch, seq_len, d_ff) --> (batch, seq_len, d_model)\n",
        "    return self.linear_2(self.dropout(torch.relu(self.linear_1(x))))\n",
        "\n",
        "#why dropout, how and why linear transformation? How relu helping, and what is the purpose of FeedForwardBlock"
      ],
      "metadata": {
        "id": "q5ai5RSt0AC_"
      },
      "execution_count": null,
      "outputs": []
    },
    {
      "cell_type": "code",
      "source": [
        "class MultiHeadAttentionBlock(nn.Module):\n",
        "\n",
        "  def __init__(self, d_model: int, h: int, dropout: float)-> None:\n",
        "    super().__init__()\n",
        "    self.d_model = d_model\n",
        "    self.h = h\n",
        "    assert d_model % h == 0, \"d_model is not divisble by h\"\n",
        "\n",
        "    self.d_k = d_model // h\n",
        "    self.w_q = nn.Linear(d_model, d_model) #Wq\n",
        "    self.w_k = nn.Linear(d_model, d_model) #Wk\n",
        "    self.w_v = nn.Linear(d_model, d_model) #Wv\n",
        "\n",
        "    self.w_o = nn.Linear(d_model, d_model) #W0\n",
        "    self.dropout = nn.Dropout(dropout)\n",
        "\n",
        "  def forward(self, q, k, v, mask):\n",
        "    query = self.w_q(q)\n",
        "    key = self.w_k(k)\n",
        "    value = self.w_v(v)\n",
        "\n",
        "    query = query.view(query.shape[0], query.shape[1], self.h, self.d_k).transpose(1, 2)\n",
        "    key = key.view(key.shape[0], key.shape[1], self.h, self.d_k).transpose(1, 2)\n",
        "\n",
        "\n"
      ],
      "metadata": {
        "id": "PKM6z0v6YKO-"
      },
      "execution_count": null,
      "outputs": []
    }
  ]
}